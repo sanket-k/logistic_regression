{
 "cells": [
  {
   "cell_type": "code",
   "execution_count": 7,
   "metadata": {
    "collapsed": true
   },
   "outputs": [],
   "source": [
    "%matplotlib inline\n",
    "\n",
    "import numpy as np                          # matrix math\n",
    "import pandas as pd                         # data manipulation \n",
    "from patsy import dmatrices                 # matrix data srtuctures\n",
    "import warnings                             # for error logging "
   ]
  },
  {
   "attachments": {
    "main-qimg-05edc1873d0103e36064862a45566dba.gif": {
     "image/gif": "[encoded data removed]"
    }
   },
   "cell_type": "markdown",
   "metadata": {},
   "source": [
    "## Sigmoid function\n",
    "\n",
    "![main-qimg-05edc1873d0103e36064862a45566dba.gif](attachment:main-qimg-05edc1873d0103e36064862a45566dba.gif)"
   ]
  },
  {
   "cell_type": "code",
   "execution_count": 8,
   "metadata": {
    "collapsed": true
   },
   "outputs": [],
   "source": [
    "# sigmoid function ==> returns an outputs of either 0 or 1\n",
    "\n",
    "def sigmoid(x):\n",
    "    return 1/(1+np.exp(-x))"
   ]
  },
  {
   "cell_type": "code",
   "execution_count": 9,
   "metadata": {
    "collapsed": true
   },
   "outputs": [],
   "source": [
    "np.random.seed(0)   # set the seed ==> produces the same random values each time , useful for repeatability and debugging\n",
    "\n",
    "# model parameters (hyperparameters)\n",
    "## to tell the algorithm to stop learning after a certain point \n",
    "\n",
    "tol = 1e-8          # convergence tolerance \n",
    "lam = None          # l2-regularization\n",
    "max_iter = 20       # max allowed iteration\n",
    "\n",
    "## data creation settings\n",
    "#Covariance measures how two variables move together. \n",
    "#It measures whether the two move in the same direction (a positive covariance) \n",
    "#or in opposite directions (a negative covariance).\n",
    "r = 0.95            # covariance between x and y \n",
    "n = 1000            # number of observations(or data points)\n",
    "sigma = 1           # variance of noise - how spread out is the data?\n",
    "\n",
    "## model settings\n",
    "beta_x, beta_z, beta_v = -4,.9,1     #true beta coeffiencts (we assume to know the coeffients/ weighst of the function)\n",
    "var_x, var_z, var_v = 1,1,4          # variances of inputs (how spread out are the variables/how diverse is the dataset)\n",
    "\n",
    "## model specification that is to be fit\n",
    "formula = 'y ~ x + z + v + np.exp(x) + I(v**2 + z)'       # for height weight and blodd pressure"
   ]
  },
  {
   "cell_type": "code",
   "execution_count": null,
   "metadata": {
    "collapsed": true
   },
   "outputs": [],
   "source": []
  }
 ],
 "metadata": {
  "kernelspec": {
   "display_name": "Python 3",
   "language": "python",
   "name": "python3"
  },
  "language_info": {
   "codemirror_mode": {
    "name": "ipython",
    "version": 3
   },
   "file_extension": ".py",
   "mimetype": "text/x-python",
   "name": "python",
   "nbconvert_exporter": "python",
   "pygments_lexer": "ipython3",
   "version": "3.5.3"
  }
 },
 "nbformat": 4,
 "nbformat_minor": 2
}
